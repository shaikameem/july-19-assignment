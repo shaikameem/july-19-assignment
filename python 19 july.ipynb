{
 "cells": [
  {
   "cell_type": "code",
   "execution_count": 1,
   "id": "39abdf8b",
   "metadata": {},
   "outputs": [],
   "source": [
    "# id"
   ]
  },
  {
   "cell_type": "code",
   "execution_count": 4,
   "id": "6d6bc47f",
   "metadata": {},
   "outputs": [
    {
     "name": "stdout",
     "output_type": "stream",
     "text": [
      "True\n",
      "2174536488192\n",
      "2174536537664\n"
     ]
    }
   ],
   "source": [
    "x=[\"dog\",\"cat\"]\n",
    "y=[\"dog\",\"cat\"]\n",
    "z=[\"Dog\",\"Cat\"]\n",
    "\n",
    "print(x==y)\n",
    "\n",
    "print(id(x))\n",
    "print(id(y))"
   ]
  },
  {
   "cell_type": "code",
   "execution_count": 6,
   "id": "d45b8ade",
   "metadata": {},
   "outputs": [
    {
     "name": "stdout",
     "output_type": "stream",
     "text": [
      "False\n",
      "2174536543616\n",
      "2174536357568\n"
     ]
    }
   ],
   "source": [
    "x=[\"dog\",\"cat\"]\n",
    "y=[\"dog\",\"cat\"]\n",
    "z=[\"Dog\",\"Cat\"]\n",
    "\n",
    "print(x==z)\n",
    "\n",
    "print(id(x))\n",
    "print(id(y))"
   ]
  },
  {
   "cell_type": "code",
   "execution_count": 7,
   "id": "cfc0983a",
   "metadata": {},
   "outputs": [
    {
     "name": "stdout",
     "output_type": "stream",
     "text": [
      "True\n",
      "2174536545152\n",
      "2174536537088\n",
      "2174536539584\n"
     ]
    }
   ],
   "source": [
    "x=[\"dog\",\"cat\"]\n",
    "y=[\"dog\",\"cat\"]\n",
    "z=[\"Dog\",\"Cat\"]\n",
    "\n",
    "print(x==y)\n",
    "\n",
    "print(id(x))\n",
    "print(id(y))\n",
    "print(id(z))"
   ]
  },
  {
   "cell_type": "code",
   "execution_count": 8,
   "id": "dbe88ee0",
   "metadata": {},
   "outputs": [
    {
     "name": "stdout",
     "output_type": "stream",
     "text": [
      "True\n",
      "2174536358208\n",
      "2174536543488\n"
     ]
    }
   ],
   "source": [
    "x=[\"dog\",\"cat\"]\n",
    "y=[\"dog\",\"cat\"]\n",
    "z=[\"Dog\",\"Cat\"]\n",
    "\n",
    "print(x==y)\n",
    "\n",
    "print(id(y))\n",
    "print(id(z))"
   ]
  },
  {
   "cell_type": "code",
   "execution_count": 15,
   "id": "b7b6ed30",
   "metadata": {},
   "outputs": [
    {
     "name": "stdout",
     "output_type": "stream",
     "text": [
      "True\n",
      "False\n",
      "True\n",
      "2174427398672\n",
      "2174427398672\n"
     ]
    }
   ],
   "source": [
    "x=[\"dog\",\"cat\"]\n",
    "y=[\"dog\",\"cat\"]\n",
    "z=[\"Dog\",\"Cat\"]\n",
    "\n",
    "print(x==y)\n",
    "print(x is y)\n",
    "\n",
    "x=10\n",
    "y=10\n",
    "print(x is y)\n",
    "print(id(x))\n",
    "print(id(y))"
   ]
  },
  {
   "cell_type": "code",
   "execution_count": null,
   "id": "0ea86f2f",
   "metadata": {},
   "outputs": [],
   "source": []
  },
  {
   "cell_type": "code",
   "execution_count": 5,
   "id": "d59b8b58",
   "metadata": {
    "scrolled": true
   },
   "outputs": [
    {
     "name": "stdout",
     "output_type": "stream",
     "text": [
      "True\n"
     ]
    }
   ],
   "source": [
    "x=10\n",
    "y=10\n",
    "\n",
    "print(x==y)"
   ]
  },
  {
   "cell_type": "code",
   "execution_count": 10,
   "id": "a8ba3d15",
   "metadata": {},
   "outputs": [
    {
     "name": "stdout",
     "output_type": "stream",
     "text": [
      "True\n"
     ]
    }
   ],
   "source": [
    "x=10\n",
    "y=10\n",
    "\n",
    "print(x is y)"
   ]
  },
  {
   "cell_type": "code",
   "execution_count": 11,
   "id": "9d9a9e72",
   "metadata": {},
   "outputs": [
    {
     "name": "stdout",
     "output_type": "stream",
     "text": [
      "False\n"
     ]
    }
   ],
   "source": [
    "x=10\n",
    "y=100\n",
    "\n",
    "print(x==y)"
   ]
  },
  {
   "cell_type": "code",
   "execution_count": 16,
   "id": "82c85fd7",
   "metadata": {},
   "outputs": [
    {
     "name": "stdout",
     "output_type": "stream",
     "text": [
      "True\n"
     ]
    }
   ],
   "source": [
    "x=100\n",
    "y=100\n",
    "\n",
    "print(x==y)"
   ]
  },
  {
   "cell_type": "code",
   "execution_count": 17,
   "id": "00dfb67a",
   "metadata": {},
   "outputs": [
    {
     "name": "stdout",
     "output_type": "stream",
     "text": [
      "False\n"
     ]
    }
   ],
   "source": [
    "x=10\n",
    "y=100\n",
    "z=9\n",
    "print(x==z)"
   ]
  },
  {
   "cell_type": "code",
   "execution_count": null,
   "id": "18497ceb",
   "metadata": {},
   "outputs": [],
   "source": []
  },
  {
   "cell_type": "code",
   "execution_count": 7,
   "id": "9a1db718",
   "metadata": {},
   "outputs": [
    {
     "name": "stdout",
     "output_type": "stream",
     "text": [
      "False\n",
      "True\n"
     ]
    }
   ],
   "source": [
    "x=[50,60,70]\n",
    "y=[50,90]\n",
    "print(x>y)\n",
    "print(x<y)"
   ]
  },
  {
   "cell_type": "code",
   "execution_count": 18,
   "id": "483edbf6",
   "metadata": {},
   "outputs": [
    {
     "name": "stdout",
     "output_type": "stream",
     "text": [
      "False\n",
      "True\n"
     ]
    }
   ],
   "source": [
    "x=[50,60,70]\n",
    "y=[90]\n",
    "print(x>y)\n",
    "print(x<y)"
   ]
  },
  {
   "cell_type": "code",
   "execution_count": 19,
   "id": "43e92d3f",
   "metadata": {},
   "outputs": [
    {
     "name": "stdout",
     "output_type": "stream",
     "text": [
      "True\n",
      "False\n"
     ]
    }
   ],
   "source": [
    "x=[100,50,60,70]\n",
    "y=[50,90]\n",
    "print(x>y)\n",
    "print(x<y)"
   ]
  },
  {
   "cell_type": "code",
   "execution_count": 20,
   "id": "45b23ff4",
   "metadata": {},
   "outputs": [
    {
     "name": "stdout",
     "output_type": "stream",
     "text": [
      "False\n",
      "True\n"
     ]
    }
   ],
   "source": [
    "x=[50,60,70]\n",
    "y=[50,90]\n",
    "z=[100]\n",
    "print(x>y)\n",
    "print(x<z)"
   ]
  },
  {
   "cell_type": "code",
   "execution_count": 21,
   "id": "0b74aa9f",
   "metadata": {},
   "outputs": [
    {
     "name": "stdout",
     "output_type": "stream",
     "text": [
      "False\n",
      "True\n"
     ]
    }
   ],
   "source": [
    "x=[50,60,70]\n",
    "y=[50,90]\n",
    "z=[100]\n",
    "print(x>z)\n",
    "print(y<z)"
   ]
  },
  {
   "cell_type": "code",
   "execution_count": null,
   "id": "2ba6cbde",
   "metadata": {},
   "outputs": [],
   "source": []
  },
  {
   "cell_type": "code",
   "execution_count": 8,
   "id": "a0c26631",
   "metadata": {},
   "outputs": [],
   "source": [
    "# clear"
   ]
  },
  {
   "cell_type": "code",
   "execution_count": 9,
   "id": "9c4933e2",
   "metadata": {},
   "outputs": [
    {
     "name": "stdout",
     "output_type": "stream",
     "text": [
      "[10, 20]\n",
      "[]\n"
     ]
    }
   ],
   "source": [
    "x=[10,20]\n",
    "print(x)\n",
    "x.clear()\n",
    "print(x)"
   ]
  },
  {
   "cell_type": "code",
   "execution_count": 22,
   "id": "7abfef31",
   "metadata": {},
   "outputs": [
    {
     "name": "stdout",
     "output_type": "stream",
     "text": [
      "[10, 20, 30, 40, 50]\n",
      "[]\n"
     ]
    }
   ],
   "source": [
    "x=[10,20,30,40,50]\n",
    "print(x)\n",
    "x.clear()\n",
    "print(x)"
   ]
  },
  {
   "cell_type": "code",
   "execution_count": 23,
   "id": "17864a3b",
   "metadata": {},
   "outputs": [
    {
     "name": "stdout",
     "output_type": "stream",
     "text": [
      "[10, 20, 'kkk']\n",
      "[]\n"
     ]
    }
   ],
   "source": [
    "x=[10,20,\"kkk\"]\n",
    "print(x)\n",
    "x.clear()\n",
    "print(x)"
   ]
  },
  {
   "cell_type": "code",
   "execution_count": 2,
   "id": "387cb675",
   "metadata": {},
   "outputs": [
    {
     "name": "stdout",
     "output_type": "stream",
     "text": [
      "[10, 20, 'aman', 50]\n",
      "[]\n"
     ]
    }
   ],
   "source": [
    "x=[10,20,\"aman\",50]\n",
    "print(x)\n",
    "x.clear()\n",
    "print(x)"
   ]
  },
  {
   "cell_type": "code",
   "execution_count": 25,
   "id": "17af8ef7",
   "metadata": {},
   "outputs": [
    {
     "name": "stdout",
     "output_type": "stream",
     "text": [
      "[10, 20, 900, 777, 'hhh', 8999]\n",
      "[]\n"
     ]
    }
   ],
   "source": [
    "x=[10,20,900,777,\"hhh\",8999]\n",
    "print(x)\n",
    "x.clear()\n",
    "print(x)"
   ]
  },
  {
   "cell_type": "code",
   "execution_count": null,
   "id": "6606ce30",
   "metadata": {},
   "outputs": [],
   "source": []
  }
 ],
 "metadata": {
  "kernelspec": {
   "display_name": "Python 3 (ipykernel)",
   "language": "python",
   "name": "python3"
  },
  "language_info": {
   "codemirror_mode": {
    "name": "ipython",
    "version": 3
   },
   "file_extension": ".py",
   "mimetype": "text/x-python",
   "name": "python",
   "nbconvert_exporter": "python",
   "pygments_lexer": "ipython3",
   "version": "3.10.9"
  }
 },
 "nbformat": 4,
 "nbformat_minor": 5
}
